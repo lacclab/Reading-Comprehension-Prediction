{
 "cells": [
  {
   "cell_type": "code",
   "execution_count": 1,
   "metadata": {},
   "outputs": [
    {
     "name": "stdout",
     "output_type": "stream",
     "text": [
      "Registered data: DataArgs\n",
      "Registered data: NoReread\n",
      "Registered data: Hunting\n",
      "Registered data: Gathering\n",
      "Registered data: HuntingCSOnly\n",
      "Registered data_path: feb11\n",
      "Registered data_path: march31\n",
      "Registered data_path: april14\n",
      "Registered data_path: may05\n",
      "Registered trainer: Shubi\n",
      "Registered trainer: ReadingCompBase\n",
      "Registered trainer: IsCorrectSampling\n",
      "Registered trainer: Ahn\n",
      "Registered trainer: BEyeLSTM\n",
      "Registered trainer: Yoav\n",
      "Registered trainer: Eyettention\n",
      "Registered trainer: CfirRoBERTaEye\n",
      "Registered trainer: CfirBEyeLSTM\n",
      "Registered trainer: CfirMAG\n",
      "Registered trainer: CfirMLQCond\n",
      "Registered trainer: CfirMLQPred\n",
      "Registered trainer: CfirJunk\n",
      "Registered model: AhnArgs\n",
      "Registered model: AhnRNN\n",
      "Registered model: AhnCNN\n"
     ]
    },
    {
     "name": "stderr",
     "output_type": "stream",
     "text": [
      "/data/home/shubi/miniforge3/envs/decoding/lib/python3.12/site-packages/tqdm/auto.py:21: TqdmWarning: IProgress not found. Please update jupyter and ipywidgets. See https://ipywidgets.readthedocs.io/en/stable/user_install.html\n",
      "  from .autonotebook import tqdm as notebook_tqdm\n"
     ]
    },
    {
     "name": "stdout",
     "output_type": "stream",
     "text": [
      "Registered model: LogisticRegressionMLArgs\n",
      "Registered model: LogisticRegressionCondPredDavidILFMLArgs\n",
      "Registered model: LogisticRegressionCondPredLennaILFMLArgs\n",
      "Registered model: LogisticRegressionCondPredDianeILFMLArgs\n",
      "Registered model: LogisticRegressionCondPredReadingTimeMLArgs\n",
      "Registered model: LogisticRegressionIsCorrectPredMLArgs\n",
      "Registered model: LogisticRegressionIsCorrectPredDavidILFMLArgs\n",
      "Registered model: LogisticRegressionIsCorrectPredLennaILFMLArgs\n",
      "Registered model: LogisticRegressionIsCorrectPredDianeILFMLArgs\n",
      "Registered model: LogisticRegressionIsCorrectPredReadingTimeMLArgs\n",
      "Registered model: LogisticRegressionQPredMLArgs\n",
      "Registered model: DummyClassifierMLArgs\n",
      "Registered model: DummyClassifierCondPredMLArgs\n",
      "Registered model: DummyClassifierIsCorrectPredMLArgs\n",
      "Registered model: DummyClassifierQPredMLArgs\n",
      "Registered model: KNearestNeighborsMLArgs\n",
      "Registered model: KNearestNeighborsCondPredMLArgs\n",
      "Registered model: KNearestNeighborsCondPredDavidILFMLArgs\n",
      "Registered model: KNearestNeighborsCondPredLennaILFMLArgs\n",
      "Registered model: KNearestNeighborsCondPredDianeILFMLArgs\n",
      "Registered model: KNearestNeighborsCondPredReadingTimeMLArgs\n",
      "Registered model: KNearestNeighborsIsCorrectPredMLArgs\n",
      "Registered model: KNearestNeighborsIsCorrectPredDavidILFMLArgs\n",
      "Registered model: KNearestNeighborsIsCorrectPredLennaILFMLArgs\n",
      "Registered model: KNearestNeighborsIsCorrectPredDianeILFMLArgs\n",
      "Registered model: KNearestNeighborsIsCorrectPredReadingTimeMLArgs\n",
      "Registered model: KNearestNeighborsQPredMLArgs\n",
      "Registered model: SupportVectorMachineMLArgs\n",
      "Registered model: SupportVectorMachineQPredMLArgs\n",
      "Registered model: SupportVectorMachineCondPredMLArgs\n",
      "Registered model: SupportVectorMachineCondPredDavidILFMLArgs\n",
      "Registered model: SupportVectorMachineCondPredLennaILFMLArgs\n",
      "Registered model: SupportVectorMachineCondPredDianeILFMLArgs\n",
      "Registered model: SupportVectorMachineCondPredReadingTimeILFMLArgs\n",
      "Registered model: SupportVectorMachineIsCorrectPredMLArgs\n",
      "Registered model: SupportVectorMachineIsCorrectPredDavidILFMLArgs\n",
      "Registered model: SupportVectorMachineIsCorrectPredLennaILFMLArgs\n",
      "Registered model: SupportVectorMachineIsCorrectPredDianeILFMLArgs\n",
      "Registered model: SupportVectorMachineIsCorrectPredReadingTimeILFMLArgs\n",
      "Registered model: BEyeLSTMArgs\n",
      "Registered model: EyettentionArgs\n",
      "Registered model: Eyettention\n",
      "Registered model: FSEArgs\n",
      "Registered model: LitArgs\n",
      "Registered model: MAG\n",
      "Registered model: PostFusion\n",
      "Registered model: PostFusionAnswers\n",
      "Registered model: PostFusionMultiClass\n",
      "Registered model: PostFusionAnswersMultiClass\n",
      "Registered model: PostFusionNoLinguistic\n",
      "Registered model: PostFusionSelectedAnswersMultiClass\n",
      "Registered model: RoberteyeFixation\n",
      "Registered model: RoberteyeWord\n",
      "Registered model: Roberta\n",
      "Registered model: RobertaSelectedAnswersMultiClass\n",
      "Registered model: MLPArgs\n"
     ]
    }
   ],
   "source": [
    "from src.configs.main_config import (\n",
    "    Args,\n",
    ")"
   ]
  },
  {
   "cell_type": "code",
   "execution_count": 2,
   "metadata": {},
   "outputs": [
    {
     "name": "stderr",
     "output_type": "stream",
     "text": [
      "\u001b[34m\u001b[1mwandb\u001b[0m: Sorting runs by -summary_metrics.Balanced_Accuracy/val_best_epoch_weighted_average\n"
     ]
    },
    {
     "name": "stdout",
     "output_type": "stream",
     "text": [
      "0.3 1e-05\n"
     ]
    },
    {
     "name": "stderr",
     "output_type": "stream",
     "text": [
      "\u001b[34m\u001b[1mwandb\u001b[0m: Sorting runs by -summary_metrics.Balanced_Accuracy/val_best_epoch_weighted_average\n"
     ]
    },
    {
     "name": "stdout",
     "output_type": "stream",
     "text": [
      "0.1 3e-05\n"
     ]
    },
    {
     "name": "stderr",
     "output_type": "stream",
     "text": [
      "\u001b[34m\u001b[1mwandb\u001b[0m: Sorting runs by -summary_metrics.Balanced_Accuracy/val_best_epoch_weighted_average\n"
     ]
    },
    {
     "name": "stdout",
     "output_type": "stream",
     "text": [
      "0.5 1e-05\n"
     ]
    },
    {
     "name": "stderr",
     "output_type": "stream",
     "text": [
      "\u001b[34m\u001b[1mwandb\u001b[0m: Sorting runs by -summary_metrics.Balanced_Accuracy/val_best_epoch_weighted_average\n"
     ]
    },
    {
     "name": "stdout",
     "output_type": "stream",
     "text": [
      "0.5 3e-05\n"
     ]
    },
    {
     "name": "stderr",
     "output_type": "stream",
     "text": [
      "\u001b[34m\u001b[1mwandb\u001b[0m: Sorting runs by -summary_metrics.Balanced_Accuracy/val_best_epoch_weighted_average\n"
     ]
    },
    {
     "name": "stdout",
     "output_type": "stream",
     "text": [
      "0.5 3e-05\n"
     ]
    },
    {
     "name": "stderr",
     "output_type": "stream",
     "text": [
      "\u001b[34m\u001b[1mwandb\u001b[0m: Sorting runs by -summary_metrics.Balanced_Accuracy/val_best_epoch_weighted_average\n"
     ]
    },
    {
     "name": "stdout",
     "output_type": "stream",
     "text": [
      "0.1 1e-05\n"
     ]
    },
    {
     "name": "stderr",
     "output_type": "stream",
     "text": [
      "\u001b[34m\u001b[1mwandb\u001b[0m: Sorting runs by -summary_metrics.Balanced_Accuracy/val_best_epoch_weighted_average\n"
     ]
    },
    {
     "name": "stdout",
     "output_type": "stream",
     "text": [
      "0.1 1e-05\n"
     ]
    },
    {
     "name": "stderr",
     "output_type": "stream",
     "text": [
      "\u001b[34m\u001b[1mwandb\u001b[0m: Sorting runs by -summary_metrics.Balanced_Accuracy/val_best_epoch_weighted_average\n",
      "\u001b[34m\u001b[1mwandb\u001b[0m: Sorting runs by -summary_metrics.Balanced_Accuracy/val_best_epoch_weighted_average\n"
     ]
    },
    {
     "name": "stdout",
     "output_type": "stream",
     "text": [
      "0.1 3e-05\n"
     ]
    },
    {
     "name": "stderr",
     "output_type": "stream",
     "text": [
      "\u001b[34m\u001b[1mwandb\u001b[0m: Sorting runs by -summary_metrics.Balanced_Accuracy/val_best_epoch_weighted_average\n"
     ]
    },
    {
     "name": "stdout",
     "output_type": "stream",
     "text": [
      "0.3 3e-05\n",
      "0.5 1e-05\n"
     ]
    },
    {
     "name": "stderr",
     "output_type": "stream",
     "text": [
      "\u001b[34m\u001b[1mwandb\u001b[0m: Sorting runs by -summary_metrics.Balanced_Accuracy/val_best_epoch_weighted_average\n",
      "\u001b[34m\u001b[1mwandb\u001b[0m: Sorting runs by -summary_metrics.Balanced_Accuracy/val_best_epoch_weighted_average\n"
     ]
    },
    {
     "name": "stdout",
     "output_type": "stream",
     "text": [
      "0.5 1e-05\n"
     ]
    },
    {
     "name": "stderr",
     "output_type": "stream",
     "text": [
      "\u001b[34m\u001b[1mwandb\u001b[0m: Sorting runs by -summary_metrics.Balanced_Accuracy/val_best_epoch_weighted_average\n"
     ]
    },
    {
     "name": "stdout",
     "output_type": "stream",
     "text": [
      "0.5 1e-05\n",
      "0.3 3e-05\n"
     ]
    },
    {
     "name": "stderr",
     "output_type": "stream",
     "text": [
      "\u001b[34m\u001b[1mwandb\u001b[0m: Sorting runs by -summary_metrics.Balanced_Accuracy/val_best_epoch_weighted_average\n",
      "\u001b[34m\u001b[1mwandb\u001b[0m: Sorting runs by -summary_metrics.Balanced_Accuracy/val_best_epoch_weighted_average\n"
     ]
    },
    {
     "name": "stdout",
     "output_type": "stream",
     "text": [
      "0.3 3e-05\n"
     ]
    },
    {
     "name": "stderr",
     "output_type": "stream",
     "text": [
      "\u001b[34m\u001b[1mwandb\u001b[0m: Sorting runs by -summary_metrics.Balanced_Accuracy/val_best_epoch_weighted_average\n"
     ]
    },
    {
     "name": "stdout",
     "output_type": "stream",
     "text": [
      "0.3 3e-05\n",
      "0.1 1e-05\n"
     ]
    },
    {
     "name": "stderr",
     "output_type": "stream",
     "text": [
      "\u001b[34m\u001b[1mwandb\u001b[0m: Sorting runs by -summary_metrics.Balanced_Accuracy/val_best_epoch_weighted_average\n"
     ]
    },
    {
     "name": "stdout",
     "output_type": "stream",
     "text": [
      "0.5 1e-05\n"
     ]
    },
    {
     "name": "stderr",
     "output_type": "stream",
     "text": [
      "\u001b[34m\u001b[1mwandb\u001b[0m: Sorting runs by -summary_metrics.Balanced_Accuracy/val_best_epoch_weighted_average\n"
     ]
    },
    {
     "name": "stdout",
     "output_type": "stream",
     "text": [
      "0.1 3e-05\n"
     ]
    },
    {
     "name": "stderr",
     "output_type": "stream",
     "text": [
      "\u001b[34m\u001b[1mwandb\u001b[0m: Sorting runs by -summary_metrics.Balanced_Accuracy/val_best_epoch_weighted_average\n"
     ]
    },
    {
     "name": "stdout",
     "output_type": "stream",
     "text": [
      "0.3 1e-05\n"
     ]
    },
    {
     "name": "stderr",
     "output_type": "stream",
     "text": [
      "\u001b[34m\u001b[1mwandb\u001b[0m: Sorting runs by -summary_metrics.Balanced_Accuracy/val_best_epoch_weighted_average\n"
     ]
    },
    {
     "name": "stdout",
     "output_type": "stream",
     "text": [
      "0.1 3e-05\n"
     ]
    }
   ],
   "source": []
  },
  {
   "cell_type": "code",
   "execution_count": 27,
   "metadata": {},
   "outputs": [],
   "source": [
    "from src.configs.data_args import DataArgs\n",
    "from src.configs.data_path_args import DataPathArgs\n",
    "from src.configs.trainer_args import Base as TrainerArgs\n",
    "from src.configs.model_args.model_specific_args.PostFusionArgs import PostFusion\n",
    "from pathlib import Path\n",
    "import wandb\n",
    "\n",
    "from dataclasses import replace"
   ]
  },
  {
   "cell_type": "code",
   "execution_count": 28,
   "metadata": {},
   "outputs": [],
   "source": [
    "api = wandb.Api()\n",
    "\n",
    "\n",
    "def get_best_model_config(api, sweep_id, sweep_path=\"lacc-lab/emnlp24/\"):\n",
    "    sweep = api.sweep(sweep_path + sweep_id)\n",
    "    best_run = sweep.best_run()\n",
    "    data_args = DataArgs(**best_run.config[\"data\"])\n",
    "    data_path_args = DataPathArgs(**best_run.config[\"data_path\"])\n",
    "    # for each att in data_path_args, apply Path() to it\n",
    "    for att in data_path_args.__dict__.keys():\n",
    "        setattr(data_path_args, att, Path(getattr(data_path_args, att)))\n",
    "    trainer_args = TrainerArgs(**best_run.config[\"trainer\"])\n",
    "    model_params_update = best_run.config[\"model\"][\"model_params\"]\n",
    "    best_run.config[\"model\"].pop(\"model_params\")\n",
    "    model_args = PostFusion(**best_run.config[\"model\"])\n",
    "    replace(model_args.model_params, **model_params_update)\n",
    "    cfg = Args(\n",
    "        data=data_args, data_path=data_path_args, trainer=trainer_args, model=model_args\n",
    "    )\n",
    "    return cfg"
   ]
  },
  {
   "cell_type": "code",
   "execution_count": 32,
   "metadata": {},
   "outputs": [],
   "source": [
    "sweep_path = \"lacc-lab/emnlp24/\"\n",
    "\n",
    "sweeps = [\n",
    "    \"czf5t5gb\",\n",
    "    \"13yyx3nd\",\n",
    "    \"buxlqj9j\",\n",
    "    \"67cbe2hg\",\n",
    "    \"tmerr2hg\",\n",
    "    \"pp9zq8z5\",\n",
    "    \"jacc6rqr\",\n",
    "    \"ca4gpyo5\",\n",
    "    \"p8ntm5ik\",\n",
    "    \"4agemtuy\",\n",
    "    \"t1q33s5y\",\n",
    "    \"26p3dxvd\",\n",
    "    \"7bhuapeo\",\n",
    "    \"h4dzfd60\",\n",
    "    \"kyt685zg\",\n",
    "    \"afy7z2yf\",\n",
    "    \"2kqz3xye\",\n",
    "    \"pm0hyq3y\",\n",
    "    \"mpr7nsv3\",\n",
    "    \"ii8qnf2t\",\n",
    "]\n",
    "\n",
    "\n",
    "api = wandb.Api()"
   ]
  },
  {
   "cell_type": "code",
   "execution_count": 33,
   "metadata": {},
   "outputs": [
    {
     "name": "stderr",
     "output_type": "stream",
     "text": [
      "\u001b[34m\u001b[1mwandb\u001b[0m: Sorting runs by -summary_metrics.Balanced_Accuracy/val_best_epoch_weighted_average\n",
      "\u001b[34m\u001b[1mwandb\u001b[0m: Sorting runs by -summary_metrics.Balanced_Accuracy/val_best_epoch_weighted_average\n",
      "\u001b[34m\u001b[1mwandb\u001b[0m: Sorting runs by -summary_metrics.Balanced_Accuracy/val_best_epoch_weighted_average\n",
      "\u001b[34m\u001b[1mwandb\u001b[0m: Sorting runs by -summary_metrics.Balanced_Accuracy/val_best_epoch_weighted_average\n",
      "\u001b[34m\u001b[1mwandb\u001b[0m: Sorting runs by -summary_metrics.Balanced_Accuracy/val_best_epoch_weighted_average\n",
      "\u001b[34m\u001b[1mwandb\u001b[0m: Sorting runs by -summary_metrics.Balanced_Accuracy/val_best_epoch_weighted_average\n",
      "\u001b[34m\u001b[1mwandb\u001b[0m: Sorting runs by -summary_metrics.Balanced_Accuracy/val_best_epoch_weighted_average\n",
      "\u001b[34m\u001b[1mwandb\u001b[0m: Sorting runs by -summary_metrics.Balanced_Accuracy/val_best_epoch_weighted_average\n",
      "\u001b[34m\u001b[1mwandb\u001b[0m: Sorting runs by -summary_metrics.Balanced_Accuracy/val_best_epoch_weighted_average\n",
      "\u001b[34m\u001b[1mwandb\u001b[0m: Sorting runs by -summary_metrics.Balanced_Accuracy/val_best_epoch_weighted_average\n",
      "\u001b[34m\u001b[1mwandb\u001b[0m: Sorting runs by -summary_metrics.Balanced_Accuracy/val_best_epoch_weighted_average\n",
      "\u001b[34m\u001b[1mwandb\u001b[0m: Sorting runs by -summary_metrics.Balanced_Accuracy/val_best_epoch_weighted_average\n",
      "\u001b[34m\u001b[1mwandb\u001b[0m: Sorting runs by -summary_metrics.Balanced_Accuracy/val_best_epoch_weighted_average\n",
      "\u001b[34m\u001b[1mwandb\u001b[0m: Sorting runs by -summary_metrics.Balanced_Accuracy/val_best_epoch_weighted_average\n",
      "\u001b[34m\u001b[1mwandb\u001b[0m: Sorting runs by -summary_metrics.Balanced_Accuracy/val_best_epoch_weighted_average\n",
      "\u001b[34m\u001b[1mwandb\u001b[0m: Sorting runs by -summary_metrics.Balanced_Accuracy/val_best_epoch_weighted_average\n",
      "\u001b[34m\u001b[1mwandb\u001b[0m: Sorting runs by -summary_metrics.Balanced_Accuracy/val_best_epoch_weighted_average\n",
      "\u001b[34m\u001b[1mwandb\u001b[0m: Sorting runs by -summary_metrics.Balanced_Accuracy/val_best_epoch_weighted_average\n",
      "\u001b[34m\u001b[1mwandb\u001b[0m: Sorting runs by -summary_metrics.Balanced_Accuracy/val_best_epoch_weighted_average\n",
      "\u001b[34m\u001b[1mwandb\u001b[0m: Sorting runs by -summary_metrics.Balanced_Accuracy/val_best_epoch_weighted_average\n"
     ]
    },
    {
     "data": {
      "text/html": [
       "<div>\n",
       "<style scoped>\n",
       "    .dataframe tbody tr th:only-of-type {\n",
       "        vertical-align: middle;\n",
       "    }\n",
       "\n",
       "    .dataframe tbody tr th {\n",
       "        vertical-align: top;\n",
       "    }\n",
       "\n",
       "    .dataframe thead th {\n",
       "        text-align: right;\n",
       "    }\n",
       "</style>\n",
       "<table border=\"1\" class=\"dataframe\">\n",
       "  <thead>\n",
       "    <tr style=\"text-align: right;\">\n",
       "      <th></th>\n",
       "      <th>sweep_id</th>\n",
       "      <th>condition</th>\n",
       "      <th>fold</th>\n",
       "      <th>dropout</th>\n",
       "      <th>learning_rate</th>\n",
       "    </tr>\n",
       "  </thead>\n",
       "  <tbody>\n",
       "    <tr>\n",
       "      <th>0</th>\n",
       "      <td>czf5t5gb</td>\n",
       "      <td>G</td>\n",
       "      <td>9</td>\n",
       "      <td>0.3</td>\n",
       "      <td>0.00001</td>\n",
       "    </tr>\n",
       "    <tr>\n",
       "      <th>1</th>\n",
       "      <td>13yyx3nd</td>\n",
       "      <td>G</td>\n",
       "      <td>8</td>\n",
       "      <td>0.1</td>\n",
       "      <td>0.00003</td>\n",
       "    </tr>\n",
       "    <tr>\n",
       "      <th>2</th>\n",
       "      <td>buxlqj9j</td>\n",
       "      <td>G</td>\n",
       "      <td>7</td>\n",
       "      <td>0.5</td>\n",
       "      <td>0.00001</td>\n",
       "    </tr>\n",
       "    <tr>\n",
       "      <th>3</th>\n",
       "      <td>67cbe2hg</td>\n",
       "      <td>G</td>\n",
       "      <td>5</td>\n",
       "      <td>0.5</td>\n",
       "      <td>0.00003</td>\n",
       "    </tr>\n",
       "    <tr>\n",
       "      <th>4</th>\n",
       "      <td>tmerr2hg</td>\n",
       "      <td>G</td>\n",
       "      <td>6</td>\n",
       "      <td>0.5</td>\n",
       "      <td>0.00003</td>\n",
       "    </tr>\n",
       "    <tr>\n",
       "      <th>5</th>\n",
       "      <td>pp9zq8z5</td>\n",
       "      <td>G</td>\n",
       "      <td>3</td>\n",
       "      <td>0.1</td>\n",
       "      <td>0.00001</td>\n",
       "    </tr>\n",
       "    <tr>\n",
       "      <th>6</th>\n",
       "      <td>jacc6rqr</td>\n",
       "      <td>G</td>\n",
       "      <td>4</td>\n",
       "      <td>0.1</td>\n",
       "      <td>0.00001</td>\n",
       "    </tr>\n",
       "    <tr>\n",
       "      <th>7</th>\n",
       "      <td>ca4gpyo5</td>\n",
       "      <td>G</td>\n",
       "      <td>0</td>\n",
       "      <td>0.1</td>\n",
       "      <td>0.00003</td>\n",
       "    </tr>\n",
       "    <tr>\n",
       "      <th>8</th>\n",
       "      <td>p8ntm5ik</td>\n",
       "      <td>G</td>\n",
       "      <td>1</td>\n",
       "      <td>0.3</td>\n",
       "      <td>0.00003</td>\n",
       "    </tr>\n",
       "    <tr>\n",
       "      <th>9</th>\n",
       "      <td>4agemtuy</td>\n",
       "      <td>G</td>\n",
       "      <td>2</td>\n",
       "      <td>0.5</td>\n",
       "      <td>0.00001</td>\n",
       "    </tr>\n",
       "    <tr>\n",
       "      <th>10</th>\n",
       "      <td>t1q33s5y</td>\n",
       "      <td>H</td>\n",
       "      <td>9</td>\n",
       "      <td>0.5</td>\n",
       "      <td>0.00001</td>\n",
       "    </tr>\n",
       "    <tr>\n",
       "      <th>11</th>\n",
       "      <td>26p3dxvd</td>\n",
       "      <td>H</td>\n",
       "      <td>8</td>\n",
       "      <td>0.5</td>\n",
       "      <td>0.00001</td>\n",
       "    </tr>\n",
       "    <tr>\n",
       "      <th>12</th>\n",
       "      <td>7bhuapeo</td>\n",
       "      <td>H</td>\n",
       "      <td>6</td>\n",
       "      <td>0.3</td>\n",
       "      <td>0.00003</td>\n",
       "    </tr>\n",
       "    <tr>\n",
       "      <th>13</th>\n",
       "      <td>h4dzfd60</td>\n",
       "      <td>H</td>\n",
       "      <td>7</td>\n",
       "      <td>0.3</td>\n",
       "      <td>0.00003</td>\n",
       "    </tr>\n",
       "    <tr>\n",
       "      <th>14</th>\n",
       "      <td>kyt685zg</td>\n",
       "      <td>H</td>\n",
       "      <td>5</td>\n",
       "      <td>0.3</td>\n",
       "      <td>0.00003</td>\n",
       "    </tr>\n",
       "    <tr>\n",
       "      <th>15</th>\n",
       "      <td>afy7z2yf</td>\n",
       "      <td>H</td>\n",
       "      <td>3</td>\n",
       "      <td>0.1</td>\n",
       "      <td>0.00001</td>\n",
       "    </tr>\n",
       "    <tr>\n",
       "      <th>16</th>\n",
       "      <td>2kqz3xye</td>\n",
       "      <td>H</td>\n",
       "      <td>4</td>\n",
       "      <td>0.5</td>\n",
       "      <td>0.00001</td>\n",
       "    </tr>\n",
       "    <tr>\n",
       "      <th>17</th>\n",
       "      <td>pm0hyq3y</td>\n",
       "      <td>H</td>\n",
       "      <td>0</td>\n",
       "      <td>0.1</td>\n",
       "      <td>0.00003</td>\n",
       "    </tr>\n",
       "    <tr>\n",
       "      <th>18</th>\n",
       "      <td>mpr7nsv3</td>\n",
       "      <td>H</td>\n",
       "      <td>2</td>\n",
       "      <td>0.3</td>\n",
       "      <td>0.00001</td>\n",
       "    </tr>\n",
       "    <tr>\n",
       "      <th>19</th>\n",
       "      <td>ii8qnf2t</td>\n",
       "      <td>H</td>\n",
       "      <td>1</td>\n",
       "      <td>0.1</td>\n",
       "      <td>0.00003</td>\n",
       "    </tr>\n",
       "  </tbody>\n",
       "</table>\n",
       "</div>"
      ],
      "text/plain": [
       "    sweep_id condition  fold  dropout  learning_rate\n",
       "0   czf5t5gb         G     9      0.3        0.00001\n",
       "1   13yyx3nd         G     8      0.1        0.00003\n",
       "2   buxlqj9j         G     7      0.5        0.00001\n",
       "3   67cbe2hg         G     5      0.5        0.00003\n",
       "4   tmerr2hg         G     6      0.5        0.00003\n",
       "5   pp9zq8z5         G     3      0.1        0.00001\n",
       "6   jacc6rqr         G     4      0.1        0.00001\n",
       "7   ca4gpyo5         G     0      0.1        0.00003\n",
       "8   p8ntm5ik         G     1      0.3        0.00003\n",
       "9   4agemtuy         G     2      0.5        0.00001\n",
       "10  t1q33s5y         H     9      0.5        0.00001\n",
       "11  26p3dxvd         H     8      0.5        0.00001\n",
       "12  7bhuapeo         H     6      0.3        0.00003\n",
       "13  h4dzfd60         H     7      0.3        0.00003\n",
       "14  kyt685zg         H     5      0.3        0.00003\n",
       "15  afy7z2yf         H     3      0.1        0.00001\n",
       "16  2kqz3xye         H     4      0.5        0.00001\n",
       "17  pm0hyq3y         H     0      0.1        0.00003\n",
       "18  mpr7nsv3         H     2      0.3        0.00001\n",
       "19  ii8qnf2t         H     1      0.1        0.00003"
      ]
     },
     "execution_count": 33,
     "metadata": {},
     "output_type": "execute_result"
    }
   ],
   "source": [
    "import pandas as pd\n",
    "\n",
    "data = []\n",
    "\n",
    "for sweep_id in sweeps:\n",
    "    sweep = api.sweep(sweep_path + sweep_id)\n",
    "    best_run = sweep.best_run()\n",
    "\n",
    "    condition = \"H\" if \"has_preview==1\" in best_run.config[\"data\"][\"ia_query\"] else \"G\"\n",
    "    fold = best_run.config[\"data\"][\"fold_index\"]\n",
    "    dropout = best_run.config[\"model\"][\"model_params\"][\"eye_projection_dropout\"]\n",
    "    lr = best_run.config[\"trainer\"][\"learning_rate\"]\n",
    "\n",
    "    data.append(\n",
    "        {\n",
    "            \"sweep_id\": sweep_id,\n",
    "            \"condition\": condition,\n",
    "            \"fold\": fold,\n",
    "            \"dropout\": dropout,\n",
    "            \"learning_rate\": lr,\n",
    "        }\n",
    "    )\n",
    "\n",
    "df = pd.DataFrame(data)\n",
    "df"
   ]
  },
  {
   "cell_type": "code",
   "execution_count": 48,
   "metadata": {},
   "outputs": [
    {
     "data": {
      "text/html": [
       "<div>\n",
       "<style scoped>\n",
       "    .dataframe tbody tr th:only-of-type {\n",
       "        vertical-align: middle;\n",
       "    }\n",
       "\n",
       "    .dataframe tbody tr th {\n",
       "        vertical-align: top;\n",
       "    }\n",
       "\n",
       "    .dataframe thead th {\n",
       "        text-align: right;\n",
       "    }\n",
       "</style>\n",
       "<table border=\"1\" class=\"dataframe\">\n",
       "  <thead>\n",
       "    <tr style=\"text-align: right;\">\n",
       "      <th></th>\n",
       "      <th>sweep_id</th>\n",
       "      <th>condition</th>\n",
       "      <th>fold</th>\n",
       "      <th>dropout</th>\n",
       "      <th>learning_rate</th>\n",
       "    </tr>\n",
       "  </thead>\n",
       "  <tbody>\n",
       "    <tr>\n",
       "      <th>7</th>\n",
       "      <td>ca4gpyo5</td>\n",
       "      <td>G</td>\n",
       "      <td>0</td>\n",
       "      <td>0.1</td>\n",
       "      <td>0.00003</td>\n",
       "    </tr>\n",
       "    <tr>\n",
       "      <th>8</th>\n",
       "      <td>p8ntm5ik</td>\n",
       "      <td>G</td>\n",
       "      <td>1</td>\n",
       "      <td>0.3</td>\n",
       "      <td>0.00003</td>\n",
       "    </tr>\n",
       "    <tr>\n",
       "      <th>9</th>\n",
       "      <td>4agemtuy</td>\n",
       "      <td>G</td>\n",
       "      <td>2</td>\n",
       "      <td>0.5</td>\n",
       "      <td>0.00001</td>\n",
       "    </tr>\n",
       "    <tr>\n",
       "      <th>5</th>\n",
       "      <td>pp9zq8z5</td>\n",
       "      <td>G</td>\n",
       "      <td>3</td>\n",
       "      <td>0.1</td>\n",
       "      <td>0.00001</td>\n",
       "    </tr>\n",
       "    <tr>\n",
       "      <th>6</th>\n",
       "      <td>jacc6rqr</td>\n",
       "      <td>G</td>\n",
       "      <td>4</td>\n",
       "      <td>0.1</td>\n",
       "      <td>0.00001</td>\n",
       "    </tr>\n",
       "    <tr>\n",
       "      <th>3</th>\n",
       "      <td>67cbe2hg</td>\n",
       "      <td>G</td>\n",
       "      <td>5</td>\n",
       "      <td>0.5</td>\n",
       "      <td>0.00003</td>\n",
       "    </tr>\n",
       "    <tr>\n",
       "      <th>4</th>\n",
       "      <td>tmerr2hg</td>\n",
       "      <td>G</td>\n",
       "      <td>6</td>\n",
       "      <td>0.5</td>\n",
       "      <td>0.00003</td>\n",
       "    </tr>\n",
       "    <tr>\n",
       "      <th>2</th>\n",
       "      <td>buxlqj9j</td>\n",
       "      <td>G</td>\n",
       "      <td>7</td>\n",
       "      <td>0.5</td>\n",
       "      <td>0.00001</td>\n",
       "    </tr>\n",
       "    <tr>\n",
       "      <th>1</th>\n",
       "      <td>13yyx3nd</td>\n",
       "      <td>G</td>\n",
       "      <td>8</td>\n",
       "      <td>0.1</td>\n",
       "      <td>0.00003</td>\n",
       "    </tr>\n",
       "    <tr>\n",
       "      <th>0</th>\n",
       "      <td>czf5t5gb</td>\n",
       "      <td>G</td>\n",
       "      <td>9</td>\n",
       "      <td>0.3</td>\n",
       "      <td>0.00001</td>\n",
       "    </tr>\n",
       "    <tr>\n",
       "      <th>17</th>\n",
       "      <td>pm0hyq3y</td>\n",
       "      <td>H</td>\n",
       "      <td>0</td>\n",
       "      <td>0.1</td>\n",
       "      <td>0.00003</td>\n",
       "    </tr>\n",
       "    <tr>\n",
       "      <th>19</th>\n",
       "      <td>ii8qnf2t</td>\n",
       "      <td>H</td>\n",
       "      <td>1</td>\n",
       "      <td>0.1</td>\n",
       "      <td>0.00003</td>\n",
       "    </tr>\n",
       "    <tr>\n",
       "      <th>18</th>\n",
       "      <td>mpr7nsv3</td>\n",
       "      <td>H</td>\n",
       "      <td>2</td>\n",
       "      <td>0.3</td>\n",
       "      <td>0.00001</td>\n",
       "    </tr>\n",
       "    <tr>\n",
       "      <th>15</th>\n",
       "      <td>afy7z2yf</td>\n",
       "      <td>H</td>\n",
       "      <td>3</td>\n",
       "      <td>0.1</td>\n",
       "      <td>0.00001</td>\n",
       "    </tr>\n",
       "    <tr>\n",
       "      <th>16</th>\n",
       "      <td>2kqz3xye</td>\n",
       "      <td>H</td>\n",
       "      <td>4</td>\n",
       "      <td>0.5</td>\n",
       "      <td>0.00001</td>\n",
       "    </tr>\n",
       "    <tr>\n",
       "      <th>14</th>\n",
       "      <td>kyt685zg</td>\n",
       "      <td>H</td>\n",
       "      <td>5</td>\n",
       "      <td>0.3</td>\n",
       "      <td>0.00003</td>\n",
       "    </tr>\n",
       "    <tr>\n",
       "      <th>12</th>\n",
       "      <td>7bhuapeo</td>\n",
       "      <td>H</td>\n",
       "      <td>6</td>\n",
       "      <td>0.3</td>\n",
       "      <td>0.00003</td>\n",
       "    </tr>\n",
       "    <tr>\n",
       "      <th>13</th>\n",
       "      <td>h4dzfd60</td>\n",
       "      <td>H</td>\n",
       "      <td>7</td>\n",
       "      <td>0.3</td>\n",
       "      <td>0.00003</td>\n",
       "    </tr>\n",
       "    <tr>\n",
       "      <th>11</th>\n",
       "      <td>26p3dxvd</td>\n",
       "      <td>H</td>\n",
       "      <td>8</td>\n",
       "      <td>0.5</td>\n",
       "      <td>0.00001</td>\n",
       "    </tr>\n",
       "    <tr>\n",
       "      <th>10</th>\n",
       "      <td>t1q33s5y</td>\n",
       "      <td>H</td>\n",
       "      <td>9</td>\n",
       "      <td>0.5</td>\n",
       "      <td>0.00001</td>\n",
       "    </tr>\n",
       "  </tbody>\n",
       "</table>\n",
       "</div>"
      ],
      "text/plain": [
       "    sweep_id condition  fold  dropout  learning_rate\n",
       "7   ca4gpyo5         G     0      0.1        0.00003\n",
       "8   p8ntm5ik         G     1      0.3        0.00003\n",
       "9   4agemtuy         G     2      0.5        0.00001\n",
       "5   pp9zq8z5         G     3      0.1        0.00001\n",
       "6   jacc6rqr         G     4      0.1        0.00001\n",
       "3   67cbe2hg         G     5      0.5        0.00003\n",
       "4   tmerr2hg         G     6      0.5        0.00003\n",
       "2   buxlqj9j         G     7      0.5        0.00001\n",
       "1   13yyx3nd         G     8      0.1        0.00003\n",
       "0   czf5t5gb         G     9      0.3        0.00001\n",
       "17  pm0hyq3y         H     0      0.1        0.00003\n",
       "19  ii8qnf2t         H     1      0.1        0.00003\n",
       "18  mpr7nsv3         H     2      0.3        0.00001\n",
       "15  afy7z2yf         H     3      0.1        0.00001\n",
       "16  2kqz3xye         H     4      0.5        0.00001\n",
       "14  kyt685zg         H     5      0.3        0.00003\n",
       "12  7bhuapeo         H     6      0.3        0.00003\n",
       "13  h4dzfd60         H     7      0.3        0.00003\n",
       "11  26p3dxvd         H     8      0.5        0.00001\n",
       "10  t1q33s5y         H     9      0.5        0.00001"
      ]
     },
     "execution_count": 48,
     "metadata": {},
     "output_type": "execute_result"
    }
   ],
   "source": [
    "sorted_df = df.sort_values(by=[\"condition\", \"fold\"])\n",
    "sorted_df"
   ]
  },
  {
   "cell_type": "code",
   "execution_count": 49,
   "metadata": {},
   "outputs": [],
   "source": [
    "sorted_df[\"gpu_num\"] = 0\n",
    "sorted_df[\"server_number\"] = 0"
   ]
  },
  {
   "cell_type": "code",
   "execution_count": 50,
   "metadata": {},
   "outputs": [],
   "source": [
    "sorted_df.to_csv(\"nolinguistic_controller.csv\", index=False)"
   ]
  },
  {
   "cell_type": "code",
   "execution_count": 54,
   "metadata": {},
   "outputs": [
    {
     "name": "stdout",
     "output_type": "stream",
     "text": [
      "ssh shubi@nlp-srv2.iem.technion.ac.il \"cd $HOME/Cognitive-State-Decoding; git checkout main; git pull; cd; tmux new-session -d -s gpu0-G0 CUDA_VISIBLE_DEVICES=0 python src/train.py +trainer=IsCorrectSampling +model=PostFusionNoLinguistic +data=Gathering data.fold_index=0 model.model_params.eye_projection_dropout=0.1 trainer.learning_rate=0.00003 \"\n"
     ]
    },
    {
     "name": "stderr",
     "output_type": "stream",
     "text": [
      "Already on 'main'\n"
     ]
    },
    {
     "name": "stdout",
     "output_type": "stream",
     "text": [
      "Your branch is up to date with 'origin/main'.\n",
      "Already up to date.\n",
      "Command executed\n",
      "\n",
      "ssh shubi@nlp-srv2.iem.technion.ac.il \"cd $HOME/Cognitive-State-Decoding; git checkout main; git pull; cd; tmux new-session -d -s gpu0-G1 CUDA_VISIBLE_DEVICES=0 python src/train.py +trainer=IsCorrectSampling +model=PostFusionNoLinguistic +data=Gathering data.fold_index=1 model.model_params.eye_projection_dropout=0.3 trainer.learning_rate=0.00003 \"\n"
     ]
    },
    {
     "name": "stderr",
     "output_type": "stream",
     "text": [
      "Already on 'main'\n"
     ]
    },
    {
     "name": "stdout",
     "output_type": "stream",
     "text": [
      "Your branch is up to date with 'origin/main'.\n",
      "Already up to date.\n",
      "Command executed\n",
      "\n",
      "ssh shubi@nlp-srv2.iem.technion.ac.il \"cd $HOME/Cognitive-State-Decoding; git checkout main; git pull; cd; tmux new-session -d -s gpu1-G2 CUDA_VISIBLE_DEVICES=1 python src/train.py +trainer=IsCorrectSampling +model=PostFusionNoLinguistic +data=Gathering data.fold_index=2 model.model_params.eye_projection_dropout=0.5 trainer.learning_rate=0.00001 \"\n"
     ]
    },
    {
     "name": "stderr",
     "output_type": "stream",
     "text": [
      "Already on 'main'\n"
     ]
    },
    {
     "name": "stdout",
     "output_type": "stream",
     "text": [
      "Your branch is up to date with 'origin/main'.\n",
      "Already up to date.\n",
      "Command executed\n",
      "\n",
      "ssh shubi@nlp-srv2.iem.technion.ac.il \"cd $HOME/Cognitive-State-Decoding; git checkout main; git pull; cd; tmux new-session -d -s gpu1-G3 CUDA_VISIBLE_DEVICES=1 python src/train.py +trainer=IsCorrectSampling +model=PostFusionNoLinguistic +data=Gathering data.fold_index=3 model.model_params.eye_projection_dropout=0.1 trainer.learning_rate=0.00001 \"\n"
     ]
    },
    {
     "name": "stderr",
     "output_type": "stream",
     "text": [
      "Already on 'main'\n"
     ]
    },
    {
     "name": "stdout",
     "output_type": "stream",
     "text": [
      "Your branch is up to date with 'origin/main'.\n",
      "Already up to date.\n",
      "Command executed\n",
      "\n",
      "ssh shubi@nlp-srv2.iem.technion.ac.il \"cd $HOME/Cognitive-State-Decoding; git checkout main; git pull; cd; tmux new-session -d -s gpu2-G4 CUDA_VISIBLE_DEVICES=2 python src/train.py +trainer=IsCorrectSampling +model=PostFusionNoLinguistic +data=Gathering data.fold_index=4 model.model_params.eye_projection_dropout=0.1 trainer.learning_rate=0.00001 \"\n"
     ]
    },
    {
     "name": "stderr",
     "output_type": "stream",
     "text": [
      "Already on 'main'\n"
     ]
    },
    {
     "name": "stdout",
     "output_type": "stream",
     "text": [
      "Your branch is up to date with 'origin/main'.\n",
      "Already up to date.\n",
      "Command executed\n",
      "\n",
      "ssh shubi@nlp-srv2.iem.technion.ac.il \"cd $HOME/Cognitive-State-Decoding; git checkout main; git pull; cd; tmux new-session -d -s gpu2-G5 CUDA_VISIBLE_DEVICES=2 python src/train.py +trainer=IsCorrectSampling +model=PostFusionNoLinguistic +data=Gathering data.fold_index=5 model.model_params.eye_projection_dropout=0.5 trainer.learning_rate=0.00003 \"\n"
     ]
    },
    {
     "name": "stderr",
     "output_type": "stream",
     "text": [
      "Already on 'main'\n"
     ]
    },
    {
     "name": "stdout",
     "output_type": "stream",
     "text": [
      "Your branch is up to date with 'origin/main'.\n",
      "Already up to date.\n",
      "Command executed\n",
      "\n",
      "ssh shubi@nlp-srv2.iem.technion.ac.il \"cd $HOME/Cognitive-State-Decoding; git checkout main; git pull; cd; tmux new-session -d -s gpu3-G6 CUDA_VISIBLE_DEVICES=3 python src/train.py +trainer=IsCorrectSampling +model=PostFusionNoLinguistic +data=Gathering data.fold_index=6 model.model_params.eye_projection_dropout=0.5 trainer.learning_rate=0.00003 \"\n"
     ]
    },
    {
     "name": "stderr",
     "output_type": "stream",
     "text": [
      "Already on 'main'\n"
     ]
    },
    {
     "name": "stdout",
     "output_type": "stream",
     "text": [
      "Your branch is up to date with 'origin/main'.\n",
      "Already up to date.\n",
      "Command executed\n",
      "\n",
      "ssh shubi@nlp-srv2.iem.technion.ac.il \"cd $HOME/Cognitive-State-Decoding; git checkout main; git pull; cd; tmux new-session -d -s gpu3-G7 CUDA_VISIBLE_DEVICES=3 python src/train.py +trainer=IsCorrectSampling +model=PostFusionNoLinguistic +data=Gathering data.fold_index=7 model.model_params.eye_projection_dropout=0.5 trainer.learning_rate=0.00001 \"\n"
     ]
    },
    {
     "name": "stderr",
     "output_type": "stream",
     "text": [
      "Already on 'main'\n"
     ]
    },
    {
     "name": "stdout",
     "output_type": "stream",
     "text": [
      "Your branch is up to date with 'origin/main'.\n",
      "Already up to date.\n",
      "Command executed\n",
      "\n",
      "ssh shubi@nlp20.iem.technion.ac.il \"cd $HOME/Cognitive-State-Decoding; git checkout main; git pull; cd; tmux new-session -d -s gpu0-G8 CUDA_VISIBLE_DEVICES=0 python src/train.py +trainer=IsCorrectSampling +model=PostFusionNoLinguistic +data=Gathering data.fold_index=8 model.model_params.eye_projection_dropout=0.1 trainer.learning_rate=0.00003 \"\n",
      "Your branch is up to date with 'origin/main'.\n"
     ]
    },
    {
     "name": "stderr",
     "output_type": "stream",
     "text": [
      "Already on 'main'\n"
     ]
    },
    {
     "name": "stdout",
     "output_type": "stream",
     "text": [
      "Already up to date.\n",
      "Command executed\n",
      "\n",
      "ssh shubi@nlp20.iem.technion.ac.il \"cd $HOME/Cognitive-State-Decoding; git checkout main; git pull; cd; tmux new-session -d -s gpu0-G9 CUDA_VISIBLE_DEVICES=0 python src/train.py +trainer=IsCorrectSampling +model=PostFusionNoLinguistic +data=Gathering data.fold_index=9 model.model_params.eye_projection_dropout=0.3 trainer.learning_rate=0.00001 \"\n",
      "Your branch is up to date with 'origin/main'.\n"
     ]
    },
    {
     "name": "stderr",
     "output_type": "stream",
     "text": [
      "Already on 'main'\n"
     ]
    },
    {
     "name": "stdout",
     "output_type": "stream",
     "text": [
      "Already up to date.\n",
      "Command executed\n",
      "\n",
      "ssh shubi@nlp20.iem.technion.ac.il \"cd $HOME/Cognitive-State-Decoding; git checkout main; git pull; cd; tmux new-session -d -s gpu1-H0 CUDA_VISIBLE_DEVICES=1 python src/train.py +trainer=IsCorrectSampling +model=PostFusionNoLinguistic +data=Hunting data.fold_index=0 model.model_params.eye_projection_dropout=0.1 trainer.learning_rate=0.00003 \"\n",
      "Your branch is up to date with 'origin/main'.\n"
     ]
    },
    {
     "name": "stderr",
     "output_type": "stream",
     "text": [
      "Already on 'main'\n"
     ]
    },
    {
     "name": "stdout",
     "output_type": "stream",
     "text": [
      "Already up to date.\n",
      "Command executed\n",
      "\n",
      "ssh shubi@nlp20.iem.technion.ac.il \"cd $HOME/Cognitive-State-Decoding; git checkout main; git pull; cd; tmux new-session -d -s gpu1-H1 CUDA_VISIBLE_DEVICES=1 python src/train.py +trainer=IsCorrectSampling +model=PostFusionNoLinguistic +data=Hunting data.fold_index=1 model.model_params.eye_projection_dropout=0.1 trainer.learning_rate=0.00003 \"\n",
      "Your branch is up to date with 'origin/main'.\n"
     ]
    },
    {
     "name": "stderr",
     "output_type": "stream",
     "text": [
      "Already on 'main'\n"
     ]
    },
    {
     "name": "stdout",
     "output_type": "stream",
     "text": [
      "Already up to date.\n",
      "Command executed\n",
      "\n",
      "ssh shubi@nlp0.iem.technion.ac.il \"cd $HOME/Cognitive-State-Decoding; git checkout main; git pull; cd; tmux new-session -d -s gpu0-H2 CUDA_VISIBLE_DEVICES=0 python src/train.py +trainer=IsCorrectSampling +model=PostFusionNoLinguistic +data=Hunting data.fold_index=2 model.model_params.eye_projection_dropout=0.3 trainer.learning_rate=0.00001 \"\n",
      "Command executed\n",
      "\n",
      "ssh shubi@nlp0.iem.technion.ac.il \"cd $HOME/Cognitive-State-Decoding; git checkout main; git pull; cd; tmux new-session -d -s gpu0-H3 CUDA_VISIBLE_DEVICES=0 python src/train.py +trainer=IsCorrectSampling +model=PostFusionNoLinguistic +data=Hunting data.fold_index=3 model.model_params.eye_projection_dropout=0.1 trainer.learning_rate=0.00001 \"\n",
      "Command executed\n",
      "\n",
      "ssh shubi@nlp0.iem.technion.ac.il \"cd $HOME/Cognitive-State-Decoding; git checkout main; git pull; cd; tmux new-session -d -s gpu0-H4 CUDA_VISIBLE_DEVICES=0 python src/train.py +trainer=IsCorrectSampling +model=PostFusionNoLinguistic +data=Hunting data.fold_index=4 model.model_params.eye_projection_dropout=0.5 trainer.learning_rate=0.00001 \"\n",
      "Command executed\n",
      "\n",
      "ssh shubi@nlp0.iem.technion.ac.il \"cd $HOME/Cognitive-State-Decoding; git checkout main; git pull; cd; tmux new-session -d -s gpu0-H5 CUDA_VISIBLE_DEVICES=0 python src/train.py +trainer=IsCorrectSampling +model=PostFusionNoLinguistic +data=Hunting data.fold_index=5 model.model_params.eye_projection_dropout=0.3 trainer.learning_rate=0.00003 \"\n",
      "Command executed\n",
      "\n",
      "ssh shubi@nlp0.iem.technion.ac.il \"cd $HOME/Cognitive-State-Decoding; git checkout main; git pull; cd; tmux new-session -d -s gpu0-H6 CUDA_VISIBLE_DEVICES=0 python src/train.py +trainer=IsCorrectSampling +model=PostFusionNoLinguistic +data=Hunting data.fold_index=6 model.model_params.eye_projection_dropout=0.3 trainer.learning_rate=0.00003 \"\n",
      "Command executed\n",
      "\n",
      "ssh shubi@nlp0.iem.technion.ac.il \"cd $HOME/Cognitive-State-Decoding; git checkout main; git pull; cd; tmux new-session -d -s gpu0-H7 CUDA_VISIBLE_DEVICES=0 python src/train.py +trainer=IsCorrectSampling +model=PostFusionNoLinguistic +data=Hunting data.fold_index=7 model.model_params.eye_projection_dropout=0.3 trainer.learning_rate=0.00003 \"\n",
      "Command executed\n",
      "\n",
      "ssh shubi@nlp0.iem.technion.ac.il \"cd $HOME/Cognitive-State-Decoding; git checkout main; git pull; cd; tmux new-session -d -s gpu0-H8 CUDA_VISIBLE_DEVICES=0 python src/train.py +trainer=IsCorrectSampling +model=PostFusionNoLinguistic +data=Hunting data.fold_index=8 model.model_params.eye_projection_dropout=0.5 trainer.learning_rate=0.00001 \"\n",
      "Command executed\n",
      "\n",
      "ssh shubi@nlp0.iem.technion.ac.il \"cd $HOME/Cognitive-State-Decoding; git checkout main; git pull; cd; tmux new-session -d -s gpu0-H9 CUDA_VISIBLE_DEVICES=0 python src/train.py +trainer=IsCorrectSampling +model=PostFusionNoLinguistic +data=Hunting data.fold_index=9 model.model_params.eye_projection_dropout=0.5 trainer.learning_rate=0.00001 \"\n",
      "Command executed\n",
      "\n"
     ]
    },
    {
     "name": "stderr",
     "output_type": "stream",
     "text": [
      "ssh: Could not resolve hostname nlp0.iem.technion.ac.il: Name or service not known\n",
      "ssh: Could not resolve hostname nlp0.iem.technion.ac.il: Name or service not known\n",
      "ssh: Could not resolve hostname nlp0.iem.technion.ac.il: Name or service not known\n",
      "ssh: Could not resolve hostname nlp0.iem.technion.ac.il: Name or service not known\n",
      "ssh: Could not resolve hostname nlp0.iem.technion.ac.il: Name or service not known\n",
      "ssh: Could not resolve hostname nlp0.iem.technion.ac.il: Name or service not known\n",
      "ssh: Could not resolve hostname nlp0.iem.technion.ac.il: Name or service not known\n",
      "ssh: Could not resolve hostname nlp0.iem.technion.ac.il: Name or service not known\n"
     ]
    }
   ],
   "source": [
    "import pandas as pd\n",
    "import subprocess\n",
    "\n",
    "whoami = \"shubi\"\n",
    "runs = pd.read_csv(\"nolinguistic_controller.csv\")\n",
    "# Read data from DataFrame\n",
    "for index, row in runs.iterrows():\n",
    "    cond = \"H\" if row[\"condition\"] == \"H\" else \"G\"\n",
    "    command = f\"python src/train.py +trainer=IsCorrectSampling +model=PostFusionNoLinguistic +data={'Hunting' if row['condition'] == 'H' else 'Gathering'} data.fold_index={row['fold']} model.model_params.eye_projection_dropout={row['dropout']} trainer.learning_rate={row['learning_rate']:.5f}\"\n",
    "    session_name = f\"gpu{row['gpu_num']}-{cond}{row['fold']}\"\n",
    "    tmux_command = f'tmux new-session -d -s {session_name} CUDA_VISIBLE_DEVICES={row['gpu_num']} {command}'\n",
    "    ssh_command = f'ssh {whoami}@nlp{row['server_number']}.iem.technion.ac.il \"cd $HOME/Cognitive-State-Decoding; git checkout main; git pull; cd; {tmux_command} \"'\n",
    "    # Execute the SSH command\n",
    "    print(ssh_command)\n",
    "    subprocess.run(ssh_command, shell=True)\n",
    "    print(\"Command executed\\n\")"
   ]
  },
  {
   "cell_type": "code",
   "execution_count": 55,
   "metadata": {},
   "outputs": [
    {
     "name": "stdout",
     "output_type": "stream",
     "text": [
      "Command saved\n",
      "\n",
      "Command saved\n",
      "\n",
      "Command saved\n",
      "\n",
      "Command saved\n",
      "\n",
      "Command saved\n",
      "\n",
      "Command saved\n",
      "\n",
      "Command saved\n",
      "\n",
      "Command saved\n",
      "\n",
      "Command saved\n",
      "\n",
      "Command saved\n",
      "\n",
      "Command saved\n",
      "\n",
      "Command saved\n",
      "\n",
      "Command saved\n",
      "\n",
      "Command saved\n",
      "\n",
      "Command saved\n",
      "\n",
      "Command saved\n",
      "\n",
      "Command saved\n",
      "\n",
      "Command saved\n",
      "\n",
      "Command saved\n",
      "\n",
      "Command saved\n",
      "\n"
     ]
    }
   ],
   "source": [
    "import pandas as pd\n",
    "\n",
    "whoami = \"shubi\"\n",
    "runs = pd.read_csv(\"nolinguistic_controller.csv\")\n",
    "\n",
    "# Open the file in write mode\n",
    "with open(\"tmux_commands.txt\", \"w\") as file:\n",
    "    # Read data from DataFrame\n",
    "    for index, row in runs.iterrows():\n",
    "        cond = \"H\" if row[\"condition\"] == \"H\" else \"G\"\n",
    "        command = f\"python src/train.py +trainer=IsCorrectSampling +model=PostFusionNoLinguistic +data={'Hunting' if row['condition'] == 'H' else 'Gathering'} data.fold_index={row['fold']} model.model_params.eye_projection_dropout={row['dropout']} trainer.learning_rate={row['learning_rate']:.5f}\"\n",
    "        session_name = f\"gpu{row['gpu_num']}-{cond}{row['fold']}\"\n",
    "        tmux_command = f'tmux new-session -d -s {session_name} CUDA_VISIBLE_DEVICES={row['gpu_num']} {command}'\n",
    "        ssh_command = f'ssh {whoami}@nlp{row['server_number']}.iem.technion.ac.il \"cd $HOME/Cognitive-State-Decoding; git checkout main; git pull; cd; {tmux_command} \"'\n",
    "        # Write the SSH command to the file\n",
    "        file.write(tmux_command + \"\\n\")\n",
    "        print(\"Command saved\\n\")"
   ]
  }
 ],
 "metadata": {
  "kernelspec": {
   "display_name": "decoding",
   "language": "python",
   "name": "python3"
  },
  "language_info": {
   "codemirror_mode": {
    "name": "ipython",
    "version": 3
   },
   "file_extension": ".py",
   "mimetype": "text/x-python",
   "name": "python",
   "nbconvert_exporter": "python",
   "pygments_lexer": "ipython3",
   "version": "3.12.3"
  }
 },
 "nbformat": 4,
 "nbformat_minor": 2
}
